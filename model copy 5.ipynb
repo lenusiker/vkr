{
 "cells": [
  {
   "cell_type": "code",
   "execution_count": 1,
   "id": "fca62c69",
   "metadata": {},
   "outputs": [],
   "source": [
    "#%pip install torch transformers pandas matplotlib sklearn seaborn tqbm"
   ]
  },
  {
   "cell_type": "code",
   "execution_count": 2,
   "id": "47d78080",
   "metadata": {},
   "outputs": [
    {
     "name": "stderr",
     "output_type": "stream",
     "text": [
      "c:\\Users\\krigi\\Lib\\site-packages\\tqdm\\auto.py:21: TqdmWarning: IProgress not found. Please update jupyter and ipywidgets. See https://ipywidgets.readthedocs.io/en/stable/user_install.html\n",
      "  from .autonotebook import tqdm as notebook_tqdm\n"
     ]
    }
   ],
   "source": [
    "import pandas as pd\n",
    "import torch\n",
    "import torch.nn as nn\n",
    "import torch.nn.functional as F\n",
    "from torch.utils.data import Dataset, DataLoader\n",
    "from transformers import AutoModel, AutoTokenizer, get_scheduler\n",
    "from torch.optim import AdamW\n",
    "from sklearn.model_selection import train_test_split\n",
    "from sklearn.metrics import accuracy_score, f1_score, precision_score, recall_score, classification_report, confusion_matrix\n",
    "import matplotlib.pyplot as plt\n",
    "import seaborn as sns\n",
    "from tqdm import tqdm"
   ]
  },
  {
   "cell_type": "code",
   "execution_count": 3,
   "id": "b22f3265",
   "metadata": {},
   "outputs": [],
   "source": [
    "# Настройки\n",
    "DEVICE = torch.device(\"cuda\" if torch.cuda.is_available() else \"cpu\")\n",
    "BERT_MODEL = \"DeepPavlov/rubert-base-cased\"\n",
    "BATCH_SIZE = 32\n",
    "PATIENCE = 4\n",
    "EPOCHS = 15\n",
    "MAX_LEN = 256\n",
    "NUM_CLASSES = 3 "
   ]
  },
  {
   "cell_type": "code",
   "execution_count": 4,
   "id": "08d58e37",
   "metadata": {},
   "outputs": [
    {
     "name": "stdout",
     "output_type": "stream",
     "text": [
      "cuda\n"
     ]
    }
   ],
   "source": [
    "print(DEVICE) #проверка"
   ]
  },
  {
   "cell_type": "code",
   "execution_count": 5,
   "id": "eddcea85",
   "metadata": {},
   "outputs": [],
   "source": [
    "# загрузка датасета рандомно\n",
    "df = pd.read_pickle(\"tokenized_dataset.pkl\")\n",
    "df = df.sample(frac=1, random_state=42).reset_index(drop=True)"
   ]
  },
  {
   "cell_type": "code",
   "execution_count": 6,
   "id": "05a56172",
   "metadata": {},
   "outputs": [
    {
     "data": {
      "text/html": [
       "<div>\n",
       "<style scoped>\n",
       "    .dataframe tbody tr th:only-of-type {\n",
       "        vertical-align: middle;\n",
       "    }\n",
       "\n",
       "    .dataframe tbody tr th {\n",
       "        vertical-align: top;\n",
       "    }\n",
       "\n",
       "    .dataframe thead th {\n",
       "        text-align: right;\n",
       "    }\n",
       "</style>\n",
       "<table border=\"1\" class=\"dataframe\">\n",
       "  <thead>\n",
       "    <tr style=\"text-align: right;\">\n",
       "      <th></th>\n",
       "      <th>text</th>\n",
       "      <th>label</th>\n",
       "      <th>src</th>\n",
       "      <th>clean_text</th>\n",
       "      <th>input_ids</th>\n",
       "      <th>attention_mask</th>\n",
       "    </tr>\n",
       "  </thead>\n",
       "  <tbody>\n",
       "    <tr>\n",
       "      <th>0</th>\n",
       "      <td>Наблюдал веселую картину: сотрудник сто чуть н...</td>\n",
       "      <td>2</td>\n",
       "      <td>geo</td>\n",
       "      <td>наблюдал веселую картину сотрудник сто чуть не...</td>\n",
       "      <td>[101, 51120, 53086, 1790, 23459, 18040, 8590, ...</td>\n",
       "      <td>[1, 1, 1, 1, 1, 1, 1, 1, 1, 1, 1, 1, 1, 1, 1, ...</td>\n",
       "    </tr>\n",
       "    <tr>\n",
       "      <th>1</th>\n",
       "      <td>После просмотра данного анимэ, странное чувств...</td>\n",
       "      <td>0</td>\n",
       "      <td>anime</td>\n",
       "      <td>после просмотра данного анимэ, странное чувств...</td>\n",
       "      <td>[101, 3468, 37854, 17719, 22303, 900, 128, 819...</td>\n",
       "      <td>[1, 1, 1, 1, 1, 1, 1, 1, 1, 1, 1, 1, 1, 1, 1, ...</td>\n",
       "    </tr>\n",
       "    <tr>\n",
       "      <th>2</th>\n",
       "      <td>платье велико !\\n\\n\\n\\n\\n\\nВиталий.\\n\\ne-mail:...</td>\n",
       "      <td>0</td>\n",
       "      <td>ru-reviews-classification</td>\n",
       "      <td>платье велико ! виталий. e-mail zvp2012 yandex.ru</td>\n",
       "      <td>[101, 41361, 63990, 106, 22556, 20059, 132, 24...</td>\n",
       "      <td>[1, 1, 1, 1, 1, 1, 1, 1, 1, 1, 1, 1, 1, 1, 1, ...</td>\n",
       "    </tr>\n",
       "    <tr>\n",
       "      <th>3</th>\n",
       "      <td>качество отвратительное, колючая. нет ни перед...</td>\n",
       "      <td>0</td>\n",
       "      <td>rureviews</td>\n",
       "      <td>качество отвратительное, колючая. нет ни перед...</td>\n",
       "      <td>[101, 24991, 63162, 12127, 128, 46553, 1637, 1...</td>\n",
       "      <td>[1, 1, 1, 1, 1, 1, 1, 1, 1, 1, 1, 1, 1, 1, 1, ...</td>\n",
       "    </tr>\n",
       "    <tr>\n",
       "      <th>4</th>\n",
       "      <td>Достоинства: Густая и очень вкусная Моя любима...</td>\n",
       "      <td>1</td>\n",
       "      <td>perekrestok</td>\n",
       "      <td>достоинства густая и очень вкусная моя любимая...</td>\n",
       "      <td>[101, 30731, 110204, 851, 7805, 28884, 2630, 3...</td>\n",
       "      <td>[1, 1, 1, 1, 1, 1, 1, 1, 1, 1, 1, 1, 0, 0, 0, ...</td>\n",
       "    </tr>\n",
       "  </tbody>\n",
       "</table>\n",
       "</div>"
      ],
      "text/plain": [
       "                                                text  label  \\\n",
       "0  Наблюдал веселую картину: сотрудник сто чуть н...      2   \n",
       "1  После просмотра данного анимэ, странное чувств...      0   \n",
       "2  платье велико !\\n\\n\\n\\n\\n\\nВиталий.\\n\\ne-mail:...      0   \n",
       "3  качество отвратительное, колючая. нет ни перед...      0   \n",
       "4  Достоинства: Густая и очень вкусная Моя любима...      1   \n",
       "\n",
       "                         src  \\\n",
       "0                        geo   \n",
       "1                      anime   \n",
       "2  ru-reviews-classification   \n",
       "3                  rureviews   \n",
       "4                perekrestok   \n",
       "\n",
       "                                          clean_text  \\\n",
       "0  наблюдал веселую картину сотрудник сто чуть не...   \n",
       "1  после просмотра данного анимэ, странное чувств...   \n",
       "2  платье велико ! виталий. e-mail zvp2012 yandex.ru   \n",
       "3  качество отвратительное, колючая. нет ни перед...   \n",
       "4  достоинства густая и очень вкусная моя любимая...   \n",
       "\n",
       "                                           input_ids  \\\n",
       "0  [101, 51120, 53086, 1790, 23459, 18040, 8590, ...   \n",
       "1  [101, 3468, 37854, 17719, 22303, 900, 128, 819...   \n",
       "2  [101, 41361, 63990, 106, 22556, 20059, 132, 24...   \n",
       "3  [101, 24991, 63162, 12127, 128, 46553, 1637, 1...   \n",
       "4  [101, 30731, 110204, 851, 7805, 28884, 2630, 3...   \n",
       "\n",
       "                                      attention_mask  \n",
       "0  [1, 1, 1, 1, 1, 1, 1, 1, 1, 1, 1, 1, 1, 1, 1, ...  \n",
       "1  [1, 1, 1, 1, 1, 1, 1, 1, 1, 1, 1, 1, 1, 1, 1, ...  \n",
       "2  [1, 1, 1, 1, 1, 1, 1, 1, 1, 1, 1, 1, 1, 1, 1, ...  \n",
       "3  [1, 1, 1, 1, 1, 1, 1, 1, 1, 1, 1, 1, 1, 1, 1, ...  \n",
       "4  [1, 1, 1, 1, 1, 1, 1, 1, 1, 1, 1, 1, 0, 0, 0, ...  "
      ]
     },
     "execution_count": 6,
     "metadata": {},
     "output_type": "execute_result"
    }
   ],
   "source": [
    "df.head()"
   ]
  },
  {
   "cell_type": "code",
   "execution_count": 7,
   "id": "00b7889b",
   "metadata": {},
   "outputs": [
    {
     "name": "stdout",
     "output_type": "stream",
     "text": [
      "Total: 290458 examples\n",
      "Train+Val: 275935 (95.0%)\n",
      " Test:     14523 (5.0%)\n",
      "\n"
     ]
    }
   ],
   "source": [
    "# деление на train test val\n",
    "train_val_df, test_df = train_test_split(\n",
    "    df,\n",
    "    test_size=0.05,\n",
    "    stratify=df[\"label\"],\n",
    "    random_state=42\n",
    ")\n",
    "print(f\"Total: {len(df)} examples\")\n",
    "print(f\"Train+Val: {len(train_val_df)} ({len(train_val_df)/len(df):.1%})\")\n",
    "print(f\" Test:     {len(test_df)} ({len(test_df)/len(df):.1%})\\n\")"
   ]
  },
  {
   "cell_type": "code",
   "execution_count": 8,
   "id": "919a0c26",
   "metadata": {},
   "outputs": [
    {
     "name": "stdout",
     "output_type": "stream",
     "text": [
      "Train: 261310 (90.0%)\n",
      "  Val: 14625 (5.0%)\n"
     ]
    }
   ],
   "source": [
    "train_df, val_df = train_test_split(\n",
    "    train_val_df,\n",
    "    test_size=0.053,\n",
    "    stratify=train_val_df[\"label\"],\n",
    "    random_state=42\n",
    ")\n",
    "print(f\"Train: {len(train_df)} ({len(train_df)/len(df):.1%})\")\n",
    "print(f\"  Val: {len(val_df)} ({len(val_df)/len(df):.1%})\")"
   ]
  },
  {
   "cell_type": "code",
   "execution_count": 9,
   "id": "ab494d67",
   "metadata": {},
   "outputs": [],
   "source": [
    "def to_tensor_df(dataframe):\n",
    "    dataframe[\"input_ids\"] = dataframe[\"input_ids\"].apply(lambda x: torch.tensor(x, dtype=torch.long))\n",
    "    dataframe[\"attention_mask\"] = dataframe[\"attention_mask\"].apply(lambda x: torch.tensor(x, dtype=torch.long))\n",
    "    dataframe[\"label\"] = dataframe[\"label\"].astype(int)\n",
    "    return dataframe"
   ]
  },
  {
   "cell_type": "code",
   "execution_count": 10,
   "id": "a41225c4",
   "metadata": {},
   "outputs": [],
   "source": [
    "train_df = to_tensor_df(train_df)\n",
    "val_df = to_tensor_df(val_df)\n",
    "test_df  = to_tensor_df(test_df)"
   ]
  },
  {
   "cell_type": "code",
   "execution_count": 11,
   "id": "cd816482",
   "metadata": {},
   "outputs": [],
   "source": [
    "class SentimentDataset(Dataset):\n",
    "    def __init__(self, df):\n",
    "        self.df = df\n",
    "\n",
    "    def __len__(self):\n",
    "        return len(self.df)\n",
    "\n",
    "    def __getitem__(self, idx):\n",
    "        row = self.df.iloc[idx]\n",
    "        return {\n",
    "            \"input_ids\": row[\"input_ids\"],\n",
    "            \"attention_mask\": row[\"attention_mask\"],\n",
    "            \"label\": torch.tensor(row[\"label\"], dtype=torch.long)\n",
    "        }\n"
   ]
  },
  {
   "cell_type": "code",
   "execution_count": 12,
   "id": "0e43da7f",
   "metadata": {},
   "outputs": [],
   "source": [
    "train_loader = DataLoader(SentimentDataset(train_df), batch_size=BATCH_SIZE, shuffle=True)\n",
    "val_loader = DataLoader(SentimentDataset(val_df), batch_size=BATCH_SIZE)\n",
    "test_loader = DataLoader(SentimentDataset(test_df), batch_size=BATCH_SIZE)"
   ]
  },
  {
   "cell_type": "code",
   "execution_count": 13,
   "id": "e1c97945",
   "metadata": {},
   "outputs": [],
   "source": [
    "class SelfAttention(nn.Module):\n",
    "    def __init__(self, embed_dim, num_heads, dropout=0.3):\n",
    "        super(SelfAttention, self).__init__()\n",
    "        assert embed_dim % num_heads == 0, \"embed_dim must be divisible by num_heads\"\n",
    "        self.embed_dim = embed_dim\n",
    "        self.num_heads = num_heads\n",
    "        self.head_dim = embed_dim // num_heads\n",
    "\n",
    "        self.query = nn.Linear(embed_dim, embed_dim)\n",
    "        self.key   = nn.Linear(embed_dim, embed_dim)\n",
    "        self.value = nn.Linear(embed_dim, embed_dim)\n",
    "        self.out   = nn.Linear(embed_dim, embed_dim)\n",
    "        self.dropout = nn.Dropout(dropout)\n",
    "\n",
    "    def forward(self, x):  # x: [batch, seq_len, embed_dim]\n",
    "        b, seq_len, _ = x.size()\n",
    "        Q = self.query(x).view(b, seq_len, self.num_heads, self.head_dim).transpose(1,2)\n",
    "        K = self.key(x).view(b, seq_len, self.num_heads, self.head_dim).transpose(1,2)\n",
    "        V = self.value(x).view(b, seq_len, self.num_heads, self.head_dim).transpose(1,2)\n",
    "\n",
    "        scores = torch.matmul(Q, K.transpose(-2,-1)) / (self.head_dim ** 0.5)\n",
    "        weights = F.softmax(scores, dim=-1)\n",
    "        weights = self.dropout(weights)\n",
    "        context = torch.matmul(weights, V)\n",
    "\n",
    "        context = context.transpose(1,2).contiguous().view(b, seq_len, self.embed_dim)\n",
    "        return self.out(context)\n"
   ]
  },
  {
   "cell_type": "code",
   "execution_count": 14,
   "id": "edb7091b",
   "metadata": {},
   "outputs": [],
   "source": [
    "#мейн модел\n",
    "class CNN_BiLSTM_Attention(nn.Module):\n",
    "    def __init__(self, bert_model_name, num_classes, freeze_bert=True, num_heads=4, dropout=0.3):\n",
    "        super().__init__()\n",
    "        self.bert = AutoModel.from_pretrained(bert_model_name)\n",
    "        if freeze_bert:\n",
    "            for param in self.bert.parameters():\n",
    "                param.requires_grad = False\n",
    "\n",
    "        self.filter_sizes = [3, 4, 5, 6, 8]\n",
    "        self.num_filters = 128\n",
    "        self.hidden_lstm = 128\n",
    "        self.num_lstm_layers = 2\n",
    "\n",
    "        self.convs = nn.ModuleList([\n",
    "            nn.Conv1d(768, self.num_filters, fs, padding=fs // 2)\n",
    "            for fs in self.filter_sizes\n",
    "        ])\n",
    "\n",
    "        self.lstms = nn.ModuleList([\n",
    "            nn.LSTM(self.num_filters, self.hidden_lstm, self.num_lstm_layers,\n",
    "                    batch_first=True, bidirectional=True, dropout=dropout if self.num_lstm_layers>1 else 0.0)\n",
    "            for _ in self.filter_sizes\n",
    "        ])\n",
    "\n",
    "        self.self_attn = SelfAttention(embed_dim=self.hidden_lstm*2, num_heads=num_heads, dropout=dropout)\n",
    "\n",
    "        total_attn_size = len(self.filter_sizes) * self.hidden_lstm * 2\n",
    "        self.fc1 = nn.Linear( total_attn_size, 256)\n",
    "        self.dropout = nn.Dropout(dropout)\n",
    "        self.fc2 = nn.Linear(256, num_classes)\n",
    "\n",
    "    def forward(self, input_ids, attention_mask):\n",
    "        x = self.bert(input_ids=input_ids, attention_mask=attention_mask).last_hidden_state\n",
    "        x = x.permute(0, 2, 1)\n",
    "        \n",
    "        feats = []\n",
    "        for conv, lstm in zip(self.convs, self.lstms):\n",
    "            c = F.relu(conv(x)).permute(0, 2, 1)  # [b, seq, num_filters]\n",
    "            c = self.dropout(c)\n",
    "\n",
    "            h, _ = lstm(c)  # [b, seq, hidden*2]\n",
    "            h = self.dropout(h)\n",
    "\n",
    "            a = self.self_attn(h)  # [b, seq, hidden*2]\n",
    "            a = self.dropout(a)\n",
    "            \n",
    "            # Global max pooling over sequence\n",
    "            pooled, _ = torch.max(a, dim=1)  # [b, hidden*2]\n",
    "            feats.append(pooled)\n",
    "\n",
    "        cat = torch.cat(feats, dim=1)  # [b, total_feat]\n",
    "\n",
    "        out = F.relu(self.fc1(cat))\n",
    "        out = self.dropout(out)\n",
    "        \n",
    "        return self.fc2(out)"
   ]
  },
  {
   "cell_type": "code",
   "execution_count": 15,
   "id": "a89e354c",
   "metadata": {},
   "outputs": [
    {
     "name": "stderr",
     "output_type": "stream",
     "text": [
      "Some weights of the model checkpoint at DeepPavlov/rubert-base-cased were not used when initializing BertModel: ['cls.predictions.bias', 'cls.predictions.decoder.bias', 'cls.predictions.decoder.weight', 'cls.predictions.transform.LayerNorm.bias', 'cls.predictions.transform.LayerNorm.weight', 'cls.predictions.transform.dense.bias', 'cls.predictions.transform.dense.weight', 'cls.seq_relationship.bias', 'cls.seq_relationship.weight']\n",
      "- This IS expected if you are initializing BertModel from the checkpoint of a model trained on another task or with another architecture (e.g. initializing a BertForSequenceClassification model from a BertForPreTraining model).\n",
      "- This IS NOT expected if you are initializing BertModel from the checkpoint of a model that you expect to be exactly identical (initializing a BertForSequenceClassification model from a BertForSequenceClassification model).\n"
     ]
    }
   ],
   "source": [
    "#обучение\n",
    "from torch.optim.lr_scheduler import ReduceLROnPlateau \n",
    "from torch import autocast, GradScaler\n",
    "\n",
    "model = CNN_BiLSTM_Attention(BERT_MODEL, NUM_CLASSES).to(DEVICE)\n",
    "criterion = nn.CrossEntropyLoss()\n",
    "optimizer = AdamW(model.parameters(), lr=4e-5, weight_decay=0.01)\n",
    "scheduler = ReduceLROnPlateau( optimizer, mode=\"max\", factor=0.5, patience=2)\n",
    "scaler = GradScaler() "
   ]
  },
  {
   "cell_type": "code",
   "execution_count": 16,
   "id": "b5c11014",
   "metadata": {},
   "outputs": [],
   "source": [
    "def train_epoch(model, loader):\n",
    "    model.train()\n",
    "    losses, preds, labels = [], [], []\n",
    "\n",
    "    for batch in tqdm(loader, desc=\"Train\"):\n",
    "        optimizer.zero_grad()\n",
    "        input_ids = batch[\"input_ids\"].to(DEVICE)\n",
    "        attention_mask = batch[\"attention_mask\"].to(DEVICE)\n",
    "        targets = batch[\"label\"].to(DEVICE)\n",
    "\n",
    "        with autocast(\"cuda\"): \n",
    "            outputs = model(input_ids, attention_mask)\n",
    "            loss = criterion(outputs, targets)\n",
    "\n",
    "        scaler.scale(loss).backward()     \n",
    "        scaler.step(optimizer)            \n",
    "        scaler.update()                   \n",
    "\n",
    "        losses.append(loss.item())\n",
    "        preds.extend(torch.argmax(outputs, dim=1).cpu().numpy())\n",
    "        labels.extend(targets.cpu().numpy())\n",
    "    \n",
    "    train_loss = sum(losses) / len(losses)\n",
    "    train_accuracy = accuracy_score(labels, preds)\n",
    "    train_f1 = f1_score(labels, preds, average=\"macro\")\n",
    "\n",
    "    return train_loss, train_accuracy, train_f1"
   ]
  },
  {
   "cell_type": "code",
   "execution_count": 17,
   "id": "901c4618",
   "metadata": {},
   "outputs": [],
   "source": [
    "def eval_epoch(model, loader):\n",
    "    model.eval()\n",
    "    losses, preds, labels = [], [], []\n",
    "\n",
    "    with torch.no_grad():\n",
    "        for batch in tqdm(loader, desc=\"Eval\"):\n",
    "\n",
    "            input_ids = batch[\"input_ids\"].to(DEVICE)\n",
    "            attention_mask = batch[\"attention_mask\"].to(DEVICE)\n",
    "            targets = batch[\"label\"].to(DEVICE)\n",
    "\n",
    "            outputs = model(input_ids, attention_mask)\n",
    "            loss = criterion(outputs, targets)\n",
    "            losses.append(loss.item())\n",
    "            preds.extend(torch.argmax(outputs, dim=1).cpu().numpy())\n",
    "            labels.extend(targets.cpu().numpy())\n",
    "\n",
    "    val_loss = sum(losses) / len(losses)\n",
    "    val_accuracy = accuracy_score(labels, preds)\n",
    "    val_f1 = f1_score(labels, preds, average=\"macro\")\n",
    "\n",
    "\n",
    "    return val_loss, val_accuracy, val_f1\n"
   ]
  },
  {
   "cell_type": "code",
   "execution_count": 18,
   "id": "c5e99559",
   "metadata": {},
   "outputs": [
    {
     "name": "stdout",
     "output_type": "stream",
     "text": [
      "\n",
      "Epoch 1/15\n"
     ]
    },
    {
     "name": "stderr",
     "output_type": "stream",
     "text": [
      "Train: 100%|██████████| 8166/8166 [15:38<00:00,  8.70it/s]\n"
     ]
    },
    {
     "name": "stdout",
     "output_type": "stream",
     "text": [
      "[Train] Loss: 0.7663 Acc: 0.6429 F1: 0.6422\n"
     ]
    },
    {
     "name": "stderr",
     "output_type": "stream",
     "text": [
      "Eval: 100%|██████████| 458/458 [01:31<00:00,  5.01it/s]\n"
     ]
    },
    {
     "name": "stdout",
     "output_type": "stream",
     "text": [
      "[Val]   Loss: 0.7124 Acc: 0.6776 F1: 0.6812\n",
      "💡 Current lrs: [4e-05]\n",
      "✓ Saved new best model.\n",
      "\n",
      "Epoch 2/15\n"
     ]
    },
    {
     "name": "stderr",
     "output_type": "stream",
     "text": [
      "Train: 100%|██████████| 8166/8166 [15:36<00:00,  8.72it/s]\n"
     ]
    },
    {
     "name": "stdout",
     "output_type": "stream",
     "text": [
      "[Train] Loss: 0.7005 Acc: 0.6778 F1: 0.6776\n"
     ]
    },
    {
     "name": "stderr",
     "output_type": "stream",
     "text": [
      "Eval: 100%|██████████| 458/458 [01:31<00:00,  5.01it/s]\n"
     ]
    },
    {
     "name": "stdout",
     "output_type": "stream",
     "text": [
      "[Val]   Loss: 0.6737 Acc: 0.6915 F1: 0.6956\n",
      "💡 Current lrs: [4e-05]\n",
      "✓ Saved new best model.\n",
      "\n",
      "Epoch 3/15\n"
     ]
    },
    {
     "name": "stderr",
     "output_type": "stream",
     "text": [
      "Train: 100%|██████████| 8166/8166 [15:35<00:00,  8.73it/s]\n"
     ]
    },
    {
     "name": "stdout",
     "output_type": "stream",
     "text": [
      "[Train] Loss: 0.6707 Acc: 0.6925 F1: 0.6924\n"
     ]
    },
    {
     "name": "stderr",
     "output_type": "stream",
     "text": [
      "Eval: 100%|██████████| 458/458 [01:31<00:00,  5.01it/s]\n"
     ]
    },
    {
     "name": "stdout",
     "output_type": "stream",
     "text": [
      "[Val]   Loss: 0.6620 Acc: 0.6966 F1: 0.6993\n",
      "💡 Current lrs: [4e-05]\n",
      "✓ Saved new best model.\n",
      "\n",
      "Epoch 4/15\n"
     ]
    },
    {
     "name": "stderr",
     "output_type": "stream",
     "text": [
      "Train: 100%|██████████| 8166/8166 [15:40<00:00,  8.68it/s]\n"
     ]
    },
    {
     "name": "stdout",
     "output_type": "stream",
     "text": [
      "[Train] Loss: 0.6510 Acc: 0.7024 F1: 0.7025\n"
     ]
    },
    {
     "name": "stderr",
     "output_type": "stream",
     "text": [
      "Eval: 100%|██████████| 458/458 [01:31<00:00,  5.01it/s]\n"
     ]
    },
    {
     "name": "stdout",
     "output_type": "stream",
     "text": [
      "[Val]   Loss: 0.6560 Acc: 0.7006 F1: 0.7063\n",
      "💡 Current lrs: [4e-05]\n",
      "✓ Saved new best model.\n",
      "\n",
      "Epoch 5/15\n"
     ]
    },
    {
     "name": "stderr",
     "output_type": "stream",
     "text": [
      "Train: 100%|██████████| 8166/8166 [15:38<00:00,  8.70it/s]\n"
     ]
    },
    {
     "name": "stdout",
     "output_type": "stream",
     "text": [
      "[Train] Loss: 0.6369 Acc: 0.7108 F1: 0.7108\n"
     ]
    },
    {
     "name": "stderr",
     "output_type": "stream",
     "text": [
      "Eval: 100%|██████████| 458/458 [01:31<00:00,  5.01it/s]\n"
     ]
    },
    {
     "name": "stdout",
     "output_type": "stream",
     "text": [
      "[Val]   Loss: 0.6404 Acc: 0.7093 F1: 0.7143\n",
      "💡 Current lrs: [4e-05]\n",
      "✓ Saved new best model.\n",
      "\n",
      "Epoch 6/15\n"
     ]
    },
    {
     "name": "stderr",
     "output_type": "stream",
     "text": [
      "Train: 100%|██████████| 8166/8166 [15:36<00:00,  8.72it/s]\n"
     ]
    },
    {
     "name": "stdout",
     "output_type": "stream",
     "text": [
      "[Train] Loss: 0.6227 Acc: 0.7181 F1: 0.7181\n"
     ]
    },
    {
     "name": "stderr",
     "output_type": "stream",
     "text": [
      "Eval: 100%|██████████| 458/458 [01:31<00:00,  5.01it/s]\n"
     ]
    },
    {
     "name": "stdout",
     "output_type": "stream",
     "text": [
      "[Val]   Loss: 0.6420 Acc: 0.7043 F1: 0.7075\n",
      "💡 Current lrs: [4e-05]\n",
      "\n",
      "Epoch 7/15\n"
     ]
    },
    {
     "name": "stderr",
     "output_type": "stream",
     "text": [
      "Train: 100%|██████████| 8166/8166 [15:23<00:00,  8.84it/s]\n"
     ]
    },
    {
     "name": "stdout",
     "output_type": "stream",
     "text": [
      "[Train] Loss: 0.6112 Acc: 0.7233 F1: 0.7233\n"
     ]
    },
    {
     "name": "stderr",
     "output_type": "stream",
     "text": [
      "Eval: 100%|██████████| 458/458 [01:31<00:00,  5.01it/s]\n"
     ]
    },
    {
     "name": "stdout",
     "output_type": "stream",
     "text": [
      "[Val]   Loss: 0.6339 Acc: 0.7119 F1: 0.7141\n",
      "💡 Current lrs: [4e-05]\n",
      "\n",
      "Epoch 8/15\n"
     ]
    },
    {
     "name": "stderr",
     "output_type": "stream",
     "text": [
      "Train: 100%|██████████| 8166/8166 [15:43<00:00,  8.66it/s]\n"
     ]
    },
    {
     "name": "stdout",
     "output_type": "stream",
     "text": [
      "[Train] Loss: 0.5997 Acc: 0.7289 F1: 0.7290\n"
     ]
    },
    {
     "name": "stderr",
     "output_type": "stream",
     "text": [
      "Eval: 100%|██████████| 458/458 [01:30<00:00,  5.04it/s]\n"
     ]
    },
    {
     "name": "stdout",
     "output_type": "stream",
     "text": [
      "[Val]   Loss: 0.6197 Acc: 0.7140 F1: 0.7128\n",
      "⤵️  LR reduced: [2e-05]\n",
      "\n",
      "Epoch 9/15\n"
     ]
    },
    {
     "name": "stderr",
     "output_type": "stream",
     "text": [
      "Train: 100%|██████████| 8166/8166 [15:30<00:00,  8.78it/s]\n"
     ]
    },
    {
     "name": "stdout",
     "output_type": "stream",
     "text": [
      "[Train] Loss: 0.5782 Acc: 0.7398 F1: 0.7398\n"
     ]
    },
    {
     "name": "stderr",
     "output_type": "stream",
     "text": [
      "Eval: 100%|██████████| 458/458 [01:29<00:00,  5.12it/s]\n"
     ]
    },
    {
     "name": "stdout",
     "output_type": "stream",
     "text": [
      "[Val]   Loss: 0.6214 Acc: 0.7186 F1: 0.7218\n",
      "💡 Current lrs: [2e-05]\n",
      "✓ Saved new best model.\n",
      "\n",
      "Epoch 10/15\n"
     ]
    },
    {
     "name": "stderr",
     "output_type": "stream",
     "text": [
      "Train: 100%|██████████| 8166/8166 [15:18<00:00,  8.89it/s]\n"
     ]
    },
    {
     "name": "stdout",
     "output_type": "stream",
     "text": [
      "[Train] Loss: 0.5691 Acc: 0.7446 F1: 0.7446\n"
     ]
    },
    {
     "name": "stderr",
     "output_type": "stream",
     "text": [
      "Eval: 100%|██████████| 458/458 [01:29<00:00,  5.12it/s]\n"
     ]
    },
    {
     "name": "stdout",
     "output_type": "stream",
     "text": [
      "[Val]   Loss: 0.6196 Acc: 0.7151 F1: 0.7191\n",
      "💡 Current lrs: [2e-05]\n",
      "\n",
      "Epoch 11/15\n"
     ]
    },
    {
     "name": "stderr",
     "output_type": "stream",
     "text": [
      "Train: 100%|██████████| 8166/8166 [15:30<00:00,  8.78it/s]\n"
     ]
    },
    {
     "name": "stdout",
     "output_type": "stream",
     "text": [
      "[Train] Loss: 0.5622 Acc: 0.7482 F1: 0.7481\n"
     ]
    },
    {
     "name": "stderr",
     "output_type": "stream",
     "text": [
      "Eval: 100%|██████████| 458/458 [01:32<00:00,  4.97it/s]\n"
     ]
    },
    {
     "name": "stdout",
     "output_type": "stream",
     "text": [
      "[Val]   Loss: 0.6223 Acc: 0.7168 F1: 0.7209\n",
      "💡 Current lrs: [2e-05]\n",
      "\n",
      "Epoch 12/15\n"
     ]
    },
    {
     "name": "stderr",
     "output_type": "stream",
     "text": [
      "Train: 100%|██████████| 8166/8166 [15:51<00:00,  8.58it/s]\n"
     ]
    },
    {
     "name": "stdout",
     "output_type": "stream",
     "text": [
      "[Train] Loss: 0.5547 Acc: 0.7527 F1: 0.7528\n"
     ]
    },
    {
     "name": "stderr",
     "output_type": "stream",
     "text": [
      "Eval: 100%|██████████| 458/458 [01:32<00:00,  4.97it/s]\n"
     ]
    },
    {
     "name": "stdout",
     "output_type": "stream",
     "text": [
      "[Val]   Loss: 0.6186 Acc: 0.7177 F1: 0.7212\n",
      "⤵️  LR reduced: [1e-05]\n",
      "\n",
      "Epoch 13/15\n"
     ]
    },
    {
     "name": "stderr",
     "output_type": "stream",
     "text": [
      "Train: 100%|██████████| 8166/8166 [15:51<00:00,  8.58it/s]\n"
     ]
    },
    {
     "name": "stdout",
     "output_type": "stream",
     "text": [
      "[Train] Loss: 0.5408 Acc: 0.7589 F1: 0.7590\n"
     ]
    },
    {
     "name": "stderr",
     "output_type": "stream",
     "text": [
      "Eval: 100%|██████████| 458/458 [01:32<00:00,  4.97it/s]"
     ]
    },
    {
     "name": "stdout",
     "output_type": "stream",
     "text": [
      "[Val]   Loss: 0.6193 Acc: 0.7156 F1: 0.7188\n",
      "💡 Current lrs: [1e-05]\n",
      "✋ Early stopping triggered.\n"
     ]
    },
    {
     "name": "stderr",
     "output_type": "stream",
     "text": [
      "\n"
     ]
    }
   ],
   "source": [
    "best_val_f1 = 0\n",
    "epochs_no_improve = 0\n",
    "\n",
    "import matplotlib.pyplot as plt\n",
    "\n",
    "train_losses, val_losses = [], []\n",
    "train_f1s, val_f1s = [], []\n",
    "\n",
    "for epoch in range(EPOCHS):\n",
    "    print(f\"\\nEpoch {epoch + 1}/{EPOCHS}\")\n",
    "    train_loss, train_acc, train_f1 = train_epoch(model, train_loader)\n",
    "    print(f\"[Train] Loss: {train_loss:.4f} Acc: {train_acc:.4f} F1: {train_f1:.4f}\")\n",
    "    val_loss, val_acc, val_f1 = eval_epoch(model, val_loader)\n",
    "    print(f\"[Val]   Loss: {val_loss:.4f} Acc: {val_acc:.4f} F1: {val_f1:.4f}\")\n",
    "    \n",
    "    prev_lrs = [g[\"lr\"] for g in optimizer.param_groups]\n",
    "    scheduler.step(val_f1)\n",
    "    new_lrs = [g[\"lr\"] for g in optimizer.param_groups]\n",
    "    if new_lrs != prev_lrs:\n",
    "        print(f\"⤵️  LR reduced: {new_lrs}\")\n",
    "    else:\n",
    "        print(f\"💡 Current lrs: {new_lrs}\")\n",
    "\n",
    "    train_losses.append(train_loss)\n",
    "    val_losses.append(val_loss)\n",
    "    train_f1s.append(train_f1)\n",
    "    val_f1s.append(val_f1)\n",
    "\n",
    "    if val_f1 > best_val_f1:\n",
    "        best_val_f1 = val_f1\n",
    "        epochs_no_improve = 0\n",
    "        torch.save(model.state_dict(), \"cnn_bilstm_attention1.pt\")\n",
    "        print(\"✓ Saved new best model.\")\n",
    "    else:\n",
    "        epochs_no_improve += 1\n",
    "        if epochs_no_improve >= PATIENCE:\n",
    "            print(\"✋ Early stopping triggered.\")\n",
    "            break"
   ]
  },
  {
   "cell_type": "code",
   "execution_count": 19,
   "id": "7118dbc5",
   "metadata": {},
   "outputs": [
    {
     "data": {
      "image/png": "[encoded data removed]",
      "text/plain": [
       "<Figure size 1000x500 with 1 Axes>"
      ]
     },
     "metadata": {},
     "output_type": "display_data"
    },
    {
     "data": {
      "image/png": "[encoded data removed]",
      "text/plain": [
       "<Figure size 1000x500 with 1 Axes>"
      ]
     },
     "metadata": {},
     "output_type": "display_data"
    }
   ],
   "source": [
    "# loss\n",
    "plt.figure(figsize=(10, 5))\n",
    "plt.plot(train_losses, label=\"Train Loss\")\n",
    "plt.plot(val_losses, label=\"Validation Loss\")\n",
    "plt.xlabel(\"Epoch\")\n",
    "plt.ylabel(\"Loss\")\n",
    "plt.title(\"Loss по эпохам\")\n",
    "plt.legend()\n",
    "plt.grid(True)\n",
    "plt.show()\n",
    "\n",
    "# f1\n",
    "plt.figure(figsize=(10, 5))\n",
    "plt.plot(train_f1s, label=\"Train F1\")\n",
    "plt.plot(val_f1s, label=\"Validation F1\")\n",
    "plt.xlabel(\"Epoch\")\n",
    "plt.ylabel(\"F1 Score\")\n",
    "plt.title(\"F1-мера по эпохам\")\n",
    "plt.legend()\n",
    "plt.grid(True)\n",
    "plt.show()"
   ]
  },
  {
   "cell_type": "code",
   "execution_count": 20,
   "id": "5141d9ab",
   "metadata": {},
   "outputs": [
    {
     "name": "stdout",
     "output_type": "stream",
     "text": [
      "                                                     text  label          src  \\\n",
      "116605                                     малы, рост 165      0    rureviews   \n",
      "164033  Заказ пришёл быстро,  претензий к магазину нет...      0    rureviews   \n",
      "112977  товар не получен. открыл спор по ошибке выдели...      0    rureviews   \n",
      "245466        Ужасные горькие из горелой гречи. На выброс      2  perekrestok   \n",
      "101678                                          жира мало      0  perekrestok   \n",
      "...                                                   ...    ...          ...   \n",
      "190814  товар не пришел деньги не вернулись.породавца ...      2    rureviews   \n",
      "143747  Хорошие продавцы , все качественно и по-хороше...      1          geo   \n",
      "7181    на рост 170 вес 60 рукава нормальные а вот в п...      0    rureviews   \n",
      "13479   Работа офиса отвратительная, мало того что ран...      2          geo   \n",
      "178046  Бессмысленно и беспощадно. Честно говоря, даже...      2        anime   \n",
      "\n",
      "                                               clean_text  \\\n",
      "116605                                     малы, рост 165   \n",
      "164033  заказ пришёл быстро, претензий к магазину нет....   \n",
      "112977  товар не получен. открыл спор по ошибке выдели...   \n",
      "245466        ужасные горькие из горелой гречи. на выброс   \n",
      "101678                                          жира мало   \n",
      "...                                                   ...   \n",
      "190814  товар не пришел деньги не вернулись.породавца ...   \n",
      "143747  хорошие продавцы , все качественно и по-хороше...   \n",
      "7181    на рост 170 вес 60 рукава нормальные а вот в п...   \n",
      "13479   работа офиса отвратительная, мало того что ран...   \n",
      "178046  бессмысленно и беспощадно. честно говоря, даже...   \n",
      "\n",
      "                                                input_ids  \\\n",
      "116605  [tensor(101), tensor(90107), tensor(128), tens...   \n",
      "164033  [tensor(101), tensor(12300), tensor(19986), te...   \n",
      "112977  [tensor(101), tensor(33412), tensor(1699), ten...   \n",
      "245466  [tensor(101), tensor(112803), tensor(51314), t...   \n",
      "101678  [tensor(101), tensor(63253), tensor(15662), te...   \n",
      "...                                                   ...   \n",
      "190814  [tensor(101), tensor(33412), tensor(1699), ten...   \n",
      "143747  [tensor(101), tensor(31743), tensor(106647), t...   \n",
      "7181    [tensor(101), tensor(1469), tensor(10761), ten...   \n",
      "13479   [tensor(101), tensor(13831), tensor(43539), te...   \n",
      "178046  [tensor(101), tensor(112963), tensor(851), ten...   \n",
      "\n",
      "                                           attention_mask  \n",
      "116605  [tensor(1), tensor(1), tensor(1), tensor(1), t...  \n",
      "164033  [tensor(1), tensor(1), tensor(1), tensor(1), t...  \n",
      "112977  [tensor(1), tensor(1), tensor(1), tensor(1), t...  \n",
      "245466  [tensor(1), tensor(1), tensor(1), tensor(1), t...  \n",
      "101678  [tensor(1), tensor(1), tensor(1), tensor(1), t...  \n",
      "...                                                   ...  \n",
      "190814  [tensor(1), tensor(1), tensor(1), tensor(1), t...  \n",
      "143747  [tensor(1), tensor(1), tensor(1), tensor(1), t...  \n",
      "7181    [tensor(1), tensor(1), tensor(1), tensor(1), t...  \n",
      "13479   [tensor(1), tensor(1), tensor(1), tensor(1), t...  \n",
      "178046  [tensor(1), tensor(1), tensor(1), tensor(1), t...  \n",
      "\n",
      "[14523 rows x 6 columns]\n"
     ]
    }
   ],
   "source": [
    "(print(test_df))"
   ]
  },
  {
   "cell_type": "code",
   "execution_count": 22,
   "id": "60747aef",
   "metadata": {},
   "outputs": [
    {
     "name": "stderr",
     "output_type": "stream",
     "text": [
      "Some weights of the model checkpoint at DeepPavlov/rubert-base-cased were not used when initializing BertModel: ['cls.predictions.bias', 'cls.predictions.decoder.bias', 'cls.predictions.decoder.weight', 'cls.predictions.transform.LayerNorm.bias', 'cls.predictions.transform.LayerNorm.weight', 'cls.predictions.transform.dense.bias', 'cls.predictions.transform.dense.weight', 'cls.seq_relationship.bias', 'cls.seq_relationship.weight']\n",
      "- This IS expected if you are initializing BertModel from the checkpoint of a model trained on another task or with another architecture (e.g. initializing a BertForSequenceClassification model from a BertForPreTraining model).\n",
      "- This IS NOT expected if you are initializing BertModel from the checkpoint of a model that you expect to be exactly identical (initializing a BertForSequenceClassification model from a BertForSequenceClassification model).\n",
      "Test: 100%|██████████| 454/454 [01:32<00:00,  4.89it/s]\n"
     ]
    },
    {
     "name": "stdout",
     "output_type": "stream",
     "text": [
      "=== Test set results ===\n",
      "Accuracy : 0.7074\n",
      "Precision: 0.7205\n",
      "Recall   : 0.7073\n",
      "F1 (macro): 0.7109\n",
      "\n",
      "Classification report:\n",
      "              precision    recall  f1-score   support\n",
      "\n",
      "           0     0.5908    0.6498    0.6189      4829\n",
      "           1     0.8716    0.7258    0.7921      4844\n",
      "           2     0.6989    0.7462    0.7218      4850\n",
      "\n",
      "    accuracy                         0.7074     14523\n",
      "   macro avg     0.7205    0.7073    0.7109     14523\n",
      "weighted avg     0.7206    0.7074    0.7110     14523\n",
      "\n"
     ]
    },
    {
     "data": {
      "image/png": "[encoded data removed]",
      "text/plain": [
       "<Figure size 600x500 with 2 Axes>"
      ]
     },
     "metadata": {},
     "output_type": "display_data"
    }
   ],
   "source": [
    "model = CNN_BiLSTM_Attention(BERT_MODEL, NUM_CLASSES, freeze_bert=True).to(DEVICE)\n",
    "model.load_state_dict(torch.load(\"cnn_bilstm_attention1.pt\"))\n",
    "model.eval()\n",
    "\n",
    "test_preds, test_labels = [], []\n",
    "\n",
    "with torch.no_grad():\n",
    "    for batch in tqdm(test_loader, desc=\"Test\"):\n",
    "        input_ids      = batch[\"input_ids\"].to(DEVICE)\n",
    "        attention_mask = batch[\"attention_mask\"].to(DEVICE)\n",
    "        labels         = batch[\"label\"].to(DEVICE)\n",
    "\n",
    "        outputs = model(input_ids, attention_mask)      # логиты [batch, num_classes]\n",
    "        preds   = torch.argmax(outputs, dim=1)          # индексы предсказаний\n",
    "\n",
    "        test_preds .extend(preds.cpu().tolist())        # собираем все предсказания\n",
    "        test_labels.extend(labels.cpu().tolist())       # и все истинные метки\n",
    "\n",
    "acc   = accuracy_score(test_labels, test_preds)\n",
    "prec  = precision_score(test_labels, test_preds, average='macro')\n",
    "rec   = recall_score(test_labels, test_preds,    average='macro')\n",
    "f1    = f1_score(test_labels, test_preds,        average='macro')\n",
    "\n",
    "print(\"=== Test set results ===\")\n",
    "print(f\"Accuracy : {acc:.4f}\")\n",
    "print(f\"Precision: {prec:.4f}\")\n",
    "print(f\"Recall   : {rec:.4f}\")\n",
    "print(f\"F1 (macro): {f1:.4f}\\n\")\n",
    "\n",
    "print(\"Classification report:\")\n",
    "print(classification_report(test_labels, test_preds, digits=4))\n",
    "\n",
    "# строим матрицу ошибок\n",
    "cm = confusion_matrix(test_labels, test_preds)\n",
    "plt.figure(figsize=(6,5))\n",
    "sns.heatmap(cm, annot=True, fmt='d', cmap='Blues',\n",
    "            xticklabels=[f\"pred_{i}\" for i in range(NUM_CLASSES)],\n",
    "            yticklabels=[f\"true_{i}\" for i in range(NUM_CLASSES)])\n",
    "plt.xlabel(\"Predicted\")\n",
    "plt.ylabel(\"True\")\n",
    "plt.title(\"Confusion Matrix (Test)\")\n",
    "plt.tight_layout()\n",
    "plt.show()"
   ]
  }
 ],
 "metadata": {
  "kernelspec": {
   "display_name": "Python 3",
   "language": "python",
   "name": "python3"
  },
  "language_info": {
   "codemirror_mode": {
    "name": "ipython",
    "version": 3
   },
   "file_extension": ".py",
   "mimetype": "text/x-python",
   "name": "python",
   "nbconvert_exporter": "python",
   "pygments_lexer": "ipython3",
   "version": "3.13.3"
  }
 },
 "nbformat": 4,
 "nbformat_minor": 5
}
